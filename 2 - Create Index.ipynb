{
 "cells": [
  {
   "cell_type": "code",
   "execution_count": 7,
   "id": "d426de6e-d88f-4107-94a6-10d7e440a342",
   "metadata": {},
   "outputs": [],
   "source": [
    "import pandas as pd\n",
    "import numpy as np\n",
    "import pickle\n",
    "from tqdm import tqdm"
   ]
  },
  {
   "cell_type": "code",
   "execution_count": 2,
   "id": "fe189a0e-f8c8-4148-a3f6-ab7b01d8516c",
   "metadata": {},
   "outputs": [],
   "source": [
    "with open('./data/D.pkl','rb') as f:\n",
    "    D = pickle.load(f)\n",
    "    \n"
   ]
  },
  {
   "cell_type": "code",
   "execution_count": 3,
   "id": "d956a952-da76-4bf6-b09e-843c93fbf0cd",
   "metadata": {},
   "outputs": [
    {
     "data": {
      "text/plain": [
       "list"
      ]
     },
     "execution_count": 3,
     "metadata": {},
     "output_type": "execute_result"
    }
   ],
   "source": [
    "type(D)"
   ]
  },
  {
   "cell_type": "code",
   "execution_count": 4,
   "id": "5a690cbe-c01c-477f-a753-a8880be6052b",
   "metadata": {},
   "outputs": [],
   "source": [
    "for item in D:\n",
    "    if len(item)!=3:\n",
    "        print('Erro')\n",
    "    if type(item) != tuple:\n",
    "        print('Erro tipo')\n",
    "    (r,e1s,e2s),e1,e2 = item"
   ]
  },
  {
   "cell_type": "code",
   "execution_count": 9,
   "id": "68eaeb20-0a46-41ce-9e59-8024927947b3",
   "metadata": {},
   "outputs": [
    {
     "name": "stderr",
     "output_type": "stream",
     "text": [
      "928084it [00:49, 18687.52it/s]\n"
     ]
    }
   ],
   "source": [
    "df = pd.DataFrame(D, columns=['r','e1','e2'])\n",
    "dict_pos_examples = {}\n",
    "dict_neg_examples = {}\n",
    "dict_e1 = {}\n",
    "dict_e2 = {}\n",
    "\n",
    "\n",
    "for index, row in tqdm(df.iterrows()):\n",
    "    if (row['e1'], row['e2']) in dict_pos_examples:\n",
    "        dict_pos_examples[(row['e1'], row['e2'])].append(index)\n",
    "    else:\n",
    "        dict_pos_examples[(row['e1'], row['e2'])] = [index]\n",
    "    if row['e1'] in dict_e1:\n",
    "        dict_e1[row['e1']].append(index)\n",
    "    else:\n",
    "        dict_e1[row['e1']] = [index]\n",
    "    if row['e2'] in dict_e2:\n",
    "        dict_e2[row['e2']].append(index)\n",
    "    else:\n",
    "        dict_e2[row['e2']] = [index]\n"
   ]
  },
  {
   "cell_type": "code",
   "execution_count": 10,
   "id": "8b023ae3-b0bd-4d11-8fe5-6896c115d789",
   "metadata": {},
   "outputs": [
    {
     "name": "stderr",
     "output_type": "stream",
     "text": [
      "100%|██████████| 705019/705019 [01:10<00:00, 10054.70it/s]\n"
     ]
    }
   ],
   "source": [
    "for key in tqdm(dict_pos_examples.keys()):\n",
    "    e1 = key[0]\n",
    "    e2 = key[1]\n",
    "    l1 = set(dict_e1[e1])\n",
    "    l2 = set(dict_e2[e2])\n",
    "    u = l1.union(l2)\n",
    "    i = l1.intersection(l2)\n",
    "    result = list(u.difference(i))\n",
    "    dict_neg_examples[key] = result"
   ]
  },
  {
   "cell_type": "code",
   "execution_count": 11,
   "id": "5eefd142-2955-469b-9815-f82f13f8eead",
   "metadata": {},
   "outputs": [
    {
     "name": "stdout",
     "output_type": "stream",
     "text": [
      "705019 705019\n"
     ]
    }
   ],
   "source": [
    "print(len(dict_pos_examples), len(dict_neg_examples))"
   ]
  },
  {
   "cell_type": "code",
   "execution_count": 15,
   "id": "a4fc7d5b-e8c1-47f0-a0e2-8aca72ed8423",
   "metadata": {},
   "outputs": [],
   "source": [
    "with open('./data/dict_pos_examples.pkl','wb') as f:\n",
    "    pickle.dump(dict_pos_examples, f)\n",
    "with open('./data/dict_neg_examples.pkl','wb') as f:\n",
    "    pickle.dump(dict_neg_examples, f)"
   ]
  },
  {
   "cell_type": "code",
   "execution_count": 13,
   "id": "22469a8f-f505-442b-a2a1-1e3548e15b24",
   "metadata": {},
   "outputs": [
    {
     "data": {
      "text/plain": [
       "[('Spezia', 'Voetbal International Expanda'),\n",
       " ('Spezia', 'Seleção Principal Data Local'),\n",
       " ('Voetbal International Expanda', 'Seleção Principal Data Local'),\n",
       " ('Seleção Principal Data Local', 'Amsterdam Arena'),\n",
       " ('Seleção Principal Data Local', 'Amesterdam'),\n",
       " ('Seleção Principal Data Local', 'Elim'),\n",
       " ('Seleção Principal Data Local', 'Laugardalsvöllur'),\n",
       " ('Seleção Principal Data Local', 'Reykjavík'),\n",
       " ('Amsterdam Arena', 'Amesterdam'),\n",
       " ('Amsterdam Arena', 'Elim')]"
      ]
     },
     "execution_count": 13,
     "metadata": {},
     "output_type": "execute_result"
    }
   ],
   "source": [
    "list(dict_pos_examples.keys())[:10]"
   ]
  },
  {
   "cell_type": "code",
   "execution_count": 14,
   "id": "380fa66a-c2d8-4ba4-bab4-c0adf685d54d",
   "metadata": {},
   "outputs": [
    {
     "name": "stdout",
     "output_type": "stream",
     "text": [
      "[9]\n",
      "[4, 10, 11, 12, 13, 49049, 49050, 49051, 228124, 228125, 228126, 228127, 228128, 272412, 272413, 272414, 49060, 49061, 49062, 272415, 521186, 521187, 521188, 48996, 48997, 48998, 48999, 521189, 497912, 497913, 521212]\n"
     ]
    }
   ],
   "source": [
    "key = ('Amsterdam Arena', 'Amesterdam')\n",
    "print(dict_pos_examples[key])\n",
    "print(dict_neg_examples[key])"
   ]
  },
  {
   "cell_type": "code",
   "execution_count": 18,
   "id": "ad1ebe15-de80-4d53-8fed-25a3faf09d2c",
   "metadata": {},
   "outputs": [
    {
     "data": {
      "text/plain": [
       "[]"
      ]
     },
     "execution_count": 19,
     "metadata": {},
     "output_type": "execute_result"
    }
   ],
   "source": [
    "a = set([1,3,6])\n",
    "b = set([1,3,6])\n",
    "u = a.union(b)\n",
    "i = a.intersection(b)\n",
    "d = list(u.difference(i))\n",
    "d"
   ]
  },
  {
   "cell_type": "code",
   "execution_count": null,
   "id": "40e647a6-af30-4423-972f-bedc791333b0",
   "metadata": {},
   "outputs": [],
   "source": []
  }
 ],
 "metadata": {
  "kernelspec": {
   "display_name": "Python 3",
   "language": "python",
   "name": "python3"
  },
  "language_info": {
   "codemirror_mode": {
    "name": "ipython",
    "version": 3
   },
   "file_extension": ".py",
   "mimetype": "text/x-python",
   "name": "python",
   "nbconvert_exporter": "python",
   "pygments_lexer": "ipython3",
   "version": "3.6.8"
  }
 },
 "nbformat": 4,
 "nbformat_minor": 5
}
