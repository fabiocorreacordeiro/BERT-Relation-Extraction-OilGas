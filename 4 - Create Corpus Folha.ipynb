{
 "cells": [
  {
   "cell_type": "code",
   "execution_count": 19,
   "id": "6bb35a6c-f928-431b-b655-354c16de303c",
   "metadata": {},
   "outputs": [],
   "source": [
    "import pandas as pd\n",
    "import numpy as np\n",
    "import pickle\n",
    "import random"
   ]
  },
  {
   "cell_type": "code",
   "execution_count": 2,
   "id": "6c448be0-d515-4ecb-8715-3ca36948a44c",
   "metadata": {},
   "outputs": [],
   "source": [
    "df = pd.read_csv('./data/folha_articles.csv.zip', compression='zip')"
   ]
  },
  {
   "cell_type": "code",
   "execution_count": 3,
   "id": "18b2dd4c-a606-4f06-b749-742150af56b6",
   "metadata": {},
   "outputs": [
    {
     "data": {
      "text/html": [
       "<div>\n",
       "<style scoped>\n",
       "    .dataframe tbody tr th:only-of-type {\n",
       "        vertical-align: middle;\n",
       "    }\n",
       "\n",
       "    .dataframe tbody tr th {\n",
       "        vertical-align: top;\n",
       "    }\n",
       "\n",
       "    .dataframe thead th {\n",
       "        text-align: right;\n",
       "    }\n",
       "</style>\n",
       "<table border=\"1\" class=\"dataframe\">\n",
       "  <thead>\n",
       "    <tr style=\"text-align: right;\">\n",
       "      <th></th>\n",
       "      <th>title</th>\n",
       "      <th>text</th>\n",
       "      <th>date</th>\n",
       "      <th>category</th>\n",
       "      <th>subcategory</th>\n",
       "      <th>link</th>\n",
       "    </tr>\n",
       "  </thead>\n",
       "  <tbody>\n",
       "    <tr>\n",
       "      <th>0</th>\n",
       "      <td>Lula diz que está 'lascado', mas que ainda tem...</td>\n",
       "      <td>Com a possibilidade de uma condenação impedir ...</td>\n",
       "      <td>2017-09-10</td>\n",
       "      <td>poder</td>\n",
       "      <td>NaN</td>\n",
       "      <td>http://www1.folha.uol.com.br/poder/2017/10/192...</td>\n",
       "    </tr>\n",
       "    <tr>\n",
       "      <th>1</th>\n",
       "      <td>'Decidi ser escrava das mulheres que sofrem', ...</td>\n",
       "      <td>Para Oumou Sangaré, cantora e ativista malines...</td>\n",
       "      <td>2017-09-10</td>\n",
       "      <td>ilustrada</td>\n",
       "      <td>NaN</td>\n",
       "      <td>http://www1.folha.uol.com.br/ilustrada/2017/10...</td>\n",
       "    </tr>\n",
       "    <tr>\n",
       "      <th>2</th>\n",
       "      <td>Três reportagens da Folha ganham Prêmio Petrob...</td>\n",
       "      <td>Três reportagens da Folha foram vencedoras do ...</td>\n",
       "      <td>2017-09-10</td>\n",
       "      <td>poder</td>\n",
       "      <td>NaN</td>\n",
       "      <td>http://www1.folha.uol.com.br/poder/2017/10/192...</td>\n",
       "    </tr>\n",
       "    <tr>\n",
       "      <th>3</th>\n",
       "      <td>Filme 'Star Wars: Os Últimos Jedi' ganha trail...</td>\n",
       "      <td>A Disney divulgou na noite desta segunda-feira...</td>\n",
       "      <td>2017-09-10</td>\n",
       "      <td>ilustrada</td>\n",
       "      <td>NaN</td>\n",
       "      <td>http://www1.folha.uol.com.br/ilustrada/2017/10...</td>\n",
       "    </tr>\n",
       "    <tr>\n",
       "      <th>4</th>\n",
       "      <td>CBSS inicia acordos com fintechs e quer 30% do...</td>\n",
       "      <td>O CBSS, banco da holding Elopar dos sócios Bra...</td>\n",
       "      <td>2017-09-10</td>\n",
       "      <td>mercado</td>\n",
       "      <td>NaN</td>\n",
       "      <td>http://www1.folha.uol.com.br/mercado/2017/10/1...</td>\n",
       "    </tr>\n",
       "  </tbody>\n",
       "</table>\n",
       "</div>"
      ],
      "text/plain": [
       "                                               title  \\\n",
       "0  Lula diz que está 'lascado', mas que ainda tem...   \n",
       "1  'Decidi ser escrava das mulheres que sofrem', ...   \n",
       "2  Três reportagens da Folha ganham Prêmio Petrob...   \n",
       "3  Filme 'Star Wars: Os Últimos Jedi' ganha trail...   \n",
       "4  CBSS inicia acordos com fintechs e quer 30% do...   \n",
       "\n",
       "                                                text        date   category  \\\n",
       "0  Com a possibilidade de uma condenação impedir ...  2017-09-10      poder   \n",
       "1  Para Oumou Sangaré, cantora e ativista malines...  2017-09-10  ilustrada   \n",
       "2  Três reportagens da Folha foram vencedoras do ...  2017-09-10      poder   \n",
       "3  A Disney divulgou na noite desta segunda-feira...  2017-09-10  ilustrada   \n",
       "4  O CBSS, banco da holding Elopar dos sócios Bra...  2017-09-10    mercado   \n",
       "\n",
       "  subcategory                                               link  \n",
       "0         NaN  http://www1.folha.uol.com.br/poder/2017/10/192...  \n",
       "1         NaN  http://www1.folha.uol.com.br/ilustrada/2017/10...  \n",
       "2         NaN  http://www1.folha.uol.com.br/poder/2017/10/192...  \n",
       "3         NaN  http://www1.folha.uol.com.br/ilustrada/2017/10...  \n",
       "4         NaN  http://www1.folha.uol.com.br/mercado/2017/10/1...  "
      ]
     },
     "execution_count": 3,
     "metadata": {},
     "output_type": "execute_result"
    }
   ],
   "source": [
    "df.head()"
   ]
  },
  {
   "cell_type": "code",
   "execution_count": 4,
   "id": "83b52adf-1723-4f52-9e3d-2437feb62083",
   "metadata": {},
   "outputs": [],
   "source": [
    "df['text'].to_csv('./data/folha.txt', header=None, index=None)"
   ]
  },
  {
   "cell_type": "code",
   "execution_count": 5,
   "id": "32ce29fa-25cd-4dcb-b759-45e97cf01069",
   "metadata": {},
   "outputs": [],
   "source": [
    "with open('./data/D.pkl','rb') as f:\n",
    "    D = pickle.load(f)"
   ]
  },
  {
   "cell_type": "code",
   "execution_count": 6,
   "id": "b19b94ca-80e7-4060-aa34-f4ac49c1bab7",
   "metadata": {},
   "outputs": [
    {
     "data": {
      "text/plain": [
       "3416191"
      ]
     },
     "execution_count": 6,
     "metadata": {},
     "output_type": "execute_result"
    }
   ],
   "source": [
    "len(D)"
   ]
  },
  {
   "cell_type": "code",
   "execution_count": 7,
   "id": "92ebe6eb-5690-4308-aeba-5e4c84700ad6",
   "metadata": {},
   "outputs": [
    {
     "data": {
      "text/plain": [
       "((['um',\n",
       "   'discurso',\n",
       "   'inflamado',\n",
       "   'contra',\n",
       "   'a',\n",
       "   'Lava',\n",
       "   'Jato',\n",
       "   ',',\n",
       "   'no',\n",
       "   'qual',\n",
       "   'disse',\n",
       "   'saber',\n",
       "   'que',\n",
       "   'está',\n",
       "   'lascado',\n",
       "   ',',\n",
       "   'exigiu',\n",
       "   'um',\n",
       "   'pedido',\n",
       "   'de',\n",
       "   'desculpas',\n",
       "   'do',\n",
       "   'juiz',\n",
       "   'Sergio',\n",
       "   'Moro',\n",
       "   'e',\n",
       "   'afirmou',\n",
       "   'que',\n",
       "   ',',\n",
       "   'mesmo',\n",
       "   'fora',\n",
       "   'da',\n",
       "   'disputa',\n",
       "   'pelo',\n",
       "   'Planalto',\n",
       "   ','],\n",
       "  (5, 7),\n",
       "  (34, 35)),\n",
       " 'Lava Jato',\n",
       " 'Planalto')"
      ]
     },
     "execution_count": 7,
     "metadata": {},
     "output_type": "execute_result"
    }
   ],
   "source": [
    "D[0]"
   ]
  },
  {
   "cell_type": "code",
   "execution_count": 24,
   "id": "0ee2ac89-38d0-4fab-821e-777e3a1fbd11",
   "metadata": {},
   "outputs": [],
   "source": [
    "D_new = random.sample([d for d in D if len(d[0][0])>40],150000)"
   ]
  },
  {
   "cell_type": "code",
   "execution_count": 26,
   "id": "aff6adcd-594f-4c25-b8db-fbde98c0443b",
   "metadata": {},
   "outputs": [],
   "source": [
    "with open('./data/D.pkl','wb') as f:\n",
    "    pickle.dump(D_new, f)"
   ]
  },
  {
   "cell_type": "code",
   "execution_count": null,
   "id": "66dd2fcc-f806-464d-8685-ce43cda754d4",
   "metadata": {},
   "outputs": [],
   "source": []
  }
 ],
 "metadata": {
  "kernelspec": {
   "display_name": "Python 3",
   "language": "python",
   "name": "python3"
  },
  "language_info": {
   "codemirror_mode": {
    "name": "ipython",
    "version": 3
   },
   "file_extension": ".py",
   "mimetype": "text/x-python",
   "name": "python",
   "nbconvert_exporter": "python",
   "pygments_lexer": "ipython3",
   "version": "3.9.6"
  }
 },
 "nbformat": 4,
 "nbformat_minor": 5
}
