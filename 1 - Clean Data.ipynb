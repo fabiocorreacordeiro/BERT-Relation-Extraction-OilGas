{
 "cells": [
  {
   "cell_type": "code",
   "execution_count": 5,
   "id": "a05feb0b-981f-460b-b0c1-abf9d6e021d7",
   "metadata": {},
   "outputs": [],
   "source": [
    "import pickle\n",
    "import random\n",
    "from nltk import word_tokenize\n",
    "from nltk.tokenize import TreebankWordTokenizer\n",
    "from tqdm import tqdm"
   ]
  },
  {
   "cell_type": "code",
   "execution_count": null,
   "id": "62cd2c46-667c-421a-9541-75a5db9cdbdb",
   "metadata": {},
   "outputs": [],
   "source": []
  },
  {
   "cell_type": "code",
   "execution_count": 24,
   "id": "db86a904-6a36-4eb6-9064-6b9d27b29435",
   "metadata": {},
   "outputs": [
    {
     "name": "stdout",
     "output_type": "stream",
     "text": [
      "28200\n"
     ]
    }
   ],
   "source": [
    "file = open(\"./data/corpus.p\",'rb')\n",
    "corpus = pickle.load(file)\n",
    "file.close()\n",
    "print(len(corpus))"
   ]
  },
  {
   "cell_type": "code",
   "execution_count": 25,
   "id": "a8c43cb9-aeaa-4982-b77a-fbc3326ed6ee",
   "metadata": {},
   "outputs": [
    {
     "name": "stdout",
     "output_type": "stream",
     "text": [
      "128963\n"
     ]
    }
   ],
   "source": [
    "flat_list = []\n",
    "for item in corpus:\n",
    "    if len(item) == 1:\n",
    "        flat_list.append(item[0])\n",
    "    else:\n",
    "        for subitem in item:\n",
    "            flat_list.append(subitem)\n",
    "print(len(flat_list))"
   ]
  },
  {
   "cell_type": "code",
   "execution_count": 26,
   "id": "40b1850a-bf0c-45b7-9bcf-054fa6094076",
   "metadata": {},
   "outputs": [],
   "source": [
    "\n",
    "\n",
    "def redefine_data(item):\n",
    "    x = item\n",
    "    txt = item[0][0]\n",
    "\n",
    "    e1 = x[1]\n",
    "    e1s = x[0][1]\n",
    "    e1_tk = word_tokenize(e1)\n",
    "    e1_len = len(e1_tk)\n",
    "    e2 = x[2]\n",
    "    e2_tk = word_tokenize(e2)\n",
    "    e2_len = len(e2_tk)\n",
    "    e2s = x[0][2]\n",
    "    txt = txt.replace('*', ' ').replace('|', ' ')\n",
    "    txt = txt.replace(e1, ' ' + e1 + ' ')\n",
    "    txt = txt.replace(e2, ' ' + e2 + ' ')\n",
    "    \n",
    "    tokens = word_tokenize(txt)\n",
    "    e1_span = 0\n",
    "    e2_span = 0\n",
    "    try:\n",
    "        for i, tk in enumerate(tokens):\n",
    "            if tk == e1_tk[0]:\n",
    "                e1_start = i\n",
    "                if len(e1_tk) > 1:\n",
    "                    all_match = True\n",
    "                    for j in range(1, len(e1_tk)):\n",
    "                        if e1_tk[j] != tokens[i + j]:\n",
    "                            all_match = False\n",
    "                            break\n",
    "                    if all_match:\n",
    "                        e1_end = i + len(e1_tk)\n",
    "                        e1_span = (e1_start, e1_end)\n",
    "                else:\n",
    "                    e1_end = i + 1\n",
    "                    e1_span = (e1_start, e1_end)\n",
    "                    break\n",
    "\n",
    "        for i, tk in enumerate(tokens):\n",
    "            if tk == e2_tk[0]:\n",
    "                e2_start = i\n",
    "                if len(e2_tk) > 1:\n",
    "                    all_match = True\n",
    "                    for j in range(1, len(e2_tk)):\n",
    "                        if e2_tk[j] != tokens[i + j]:\n",
    "                            all_match = False\n",
    "                            break\n",
    "                    if all_match:\n",
    "                        e2_end = i + len(e2_tk)\n",
    "                        e2_span = (e2_start, e2_end)\n",
    "                else:\n",
    "                    e2_end = i + 1\n",
    "                    e2_span = (e2_start, e2_end)\n",
    "                    break\n",
    "    except:\n",
    "        ERRORS.append(item)\n",
    "        \n",
    "    #if e1_span == 0 or e2_span ==0:\n",
    "    #    print(txt, e1, e2, e1s, e2s, '\\n', tokens)\n",
    "        \n",
    "    return ((tokens, e1_span, e2_span), e1, e2)"
   ]
  },
  {
   "cell_type": "code",
   "execution_count": 27,
   "id": "97a6f762-98d1-4a80-8aa4-a251fb6b4fc2",
   "metadata": {},
   "outputs": [
    {
     "name": "stderr",
     "output_type": "stream",
     "text": [
      "100%|██████████| 128963/128963 [00:49<00:00, 2617.34it/s]\n"
     ]
    }
   ],
   "source": [
    "ERRORS = []\n",
    "new_flat_list = []\n",
    "for item in tqdm(flat_list):\n",
    "    new_flat_list.append(redefine_data(item))\n",
    "    \n",
    "new_flat_list = [item for item in new_flat_list if item[0][1]!=0 and item[0][2]!=0 and len(item[0][0])<=40]"
   ]
  },
  {
   "cell_type": "code",
   "execution_count": 28,
   "id": "14aa3630-4ca4-496f-a801-76eb4eaeb702",
   "metadata": {},
   "outputs": [
    {
     "name": "stdout",
     "output_type": "stream",
     "text": [
      "39841\n"
     ]
    }
   ],
   "source": [
    "print(len(new_flat_list))"
   ]
  },
  {
   "cell_type": "code",
   "execution_count": 29,
   "id": "76d2d582-db39-4ca6-a369-1544deb2a2ea",
   "metadata": {},
   "outputs": [],
   "source": [
    "file_flat = open('./data/new_corpus.pkl', 'wb') \n",
    "pickle.dump(new_flat_list, file_flat)\n",
    "file_flat.close()"
   ]
  },
  {
   "cell_type": "code",
   "execution_count": null,
   "id": "38e4df78-ed0b-4c0f-a8b1-f948e800ce5a",
   "metadata": {},
   "outputs": [],
   "source": []
  },
  {
   "cell_type": "code",
   "execution_count": null,
   "id": "e9ea46ae-19bb-45f5-92ea-7d2b75e8573a",
   "metadata": {},
   "outputs": [],
   "source": []
  },
  {
   "cell_type": "code",
   "execution_count": 15,
   "id": "98d86591-d058-494c-ab67-6fdc2599b622",
   "metadata": {},
   "outputs": [],
   "source": [
    "file = open(\"./data/D.pkl_bkp\",'rb')\n",
    "D = pickle.load(file)\n",
    "file.close()"
   ]
  },
  {
   "cell_type": "code",
   "execution_count": 18,
   "id": "cbb02137-f057-4b91-84e4-fe7c00267b99",
   "metadata": {},
   "outputs": [
    {
     "data": {
      "text/plain": [
       "((['It',\n",
       "   \"'s\",\n",
       "   'official',\n",
       "   'U.S.',\n",
       "   'President',\n",
       "   'Barack',\n",
       "   'Obama',\n",
       "   'wants',\n",
       "   'lawmakers',\n",
       "   'to',\n",
       "   'weigh',\n",
       "   'in',\n",
       "   'on',\n",
       "   'whether',\n",
       "   'to',\n",
       "   'use',\n",
       "   'military',\n",
       "   'force',\n",
       "   'in',\n",
       "   'Syria',\n",
       "   '.'],\n",
       "  (3, 4),\n",
       "  (5, 7)),\n",
       " 'U.S.',\n",
       " 'Barack Obama')"
      ]
     },
     "execution_count": 18,
     "metadata": {},
     "output_type": "execute_result"
    }
   ],
   "source": [
    "D[0]"
   ]
  },
  {
   "cell_type": "code",
   "execution_count": 12,
   "id": "95014496-ea3b-4460-af59-ea207fe760cc",
   "metadata": {},
   "outputs": [
    {
     "name": "stdout",
     "output_type": "stream",
     "text": [
      "52114\n"
     ]
    }
   ],
   "source": [
    "print(len(D))"
   ]
  },
  {
   "cell_type": "code",
   "execution_count": 19,
   "id": "238f7f3b-4e9c-42af-b77f-4639188318df",
   "metadata": {},
   "outputs": [],
   "source": [
    "sizes = [len(x[0][0]) for x in D]"
   ]
  },
  {
   "cell_type": "code",
   "execution_count": 21,
   "id": "08daf46f-803a-430c-b99a-f2e2268ad602",
   "metadata": {},
   "outputs": [
    {
     "data": {
      "text/plain": [
       "41"
      ]
     },
     "execution_count": 21,
     "metadata": {},
     "output_type": "execute_result"
    }
   ],
   "source": [
    "\n",
    "max(sizes)"
   ]
  },
  {
   "cell_type": "code",
   "execution_count": 22,
   "id": "42c26208-db97-491d-aa89-4f8bb269fdac",
   "metadata": {},
   "outputs": [],
   "source": [
    "sizes2 = [len(x[0][0]) for x in new_flat_list]"
   ]
  },
  {
   "cell_type": "code",
   "execution_count": 23,
   "id": "447781fe-207e-4b2b-8705-23212ec8eee0",
   "metadata": {},
   "outputs": [
    {
     "data": {
      "text/plain": [
       "147"
      ]
     },
     "execution_count": 23,
     "metadata": {},
     "output_type": "execute_result"
    }
   ],
   "source": [
    "max(sizes2)"
   ]
  },
  {
   "cell_type": "code",
   "execution_count": null,
   "id": "333bb0fa-3836-4a0b-b1f1-1659c3953523",
   "metadata": {},
   "outputs": [],
   "source": []
  }
 ],
 "metadata": {
  "kernelspec": {
   "display_name": "Python 3",
   "language": "python",
   "name": "python3"
  },
  "language_info": {
   "codemirror_mode": {
    "name": "ipython",
    "version": 3
   },
   "file_extension": ".py",
   "mimetype": "text/x-python",
   "name": "python",
   "nbconvert_exporter": "python",
   "pygments_lexer": "ipython3",
   "version": "3.6.8"
  }
 },
 "nbformat": 4,
 "nbformat_minor": 5
}
